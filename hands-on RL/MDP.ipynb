{
 "cells": [
  {
   "cell_type": "code",
   "execution_count": null,
   "id": "eb937931-4f5d-4fe8-b065-3bfee09feef3",
   "metadata": {},
   "outputs": [],
   "source": [
    "import numpy as np\n",
    "np.random.seed(0)\n",
    "P = [\n",
    "    [0.9, 0.1, 0.0, 0.0, 0.0, 0.0],\n",
    "    [0.5, 0.0, 0.5, 0.0, 0.0, 0.0],\n",
    "    [0.0, 0.0, 0.0, 0.6, 0.0, 0.4],\n",
    "    [0.0, 0.0, 0.0, 0.0, 0.3, 0.7],\n",
    "    [0.0, 0.2, 0.3, 0.5, 0.0, 0.0],\n",
    "    [0.0, 0.0, 0.0, 0.0, 0.0, 1.0]\n",
    "]\n",
    "P = np.array(P)\n",
    "\n",
    "rewards = [-1, -2, -2, 10, 1, 0]\n",
    "gamma = 0.5\n",
    "\n",
    "def compute_return(start_index, chain, gamma):\n",
    "    G = 0\n",
    "    for i in reversed(range(start_index, len(chain))):\n",
    "        G = gamma * G + rewards[chain[i] - 1]\n",
    "    return G\n",
    "    \n",
    "chain = [1, 2, 3, 6]\n",
    "start_index = 0\n",
    "compute_return(start_index, chain, gamma)"
   ]
  },
  {
   "cell_type": "code",
   "execution_count": null,
   "id": "c7af7cb3-b5cd-4ebb-a37d-54f7fd8d65ca",
   "metadata": {},
   "outputs": [],
   "source": [
    "def compute(P, rewards, gamma, states_num):\n",
    "    rewards = np.array(rewards).reshape(-1,1)\n",
    "    value = np.dot(np.linalg.inv(np.eye(states_num, states_num) - gamma * P), rewards)\n",
    "    return value\n",
    "\n",
    "compute(P, rewards, gamma, 6)"
   ]
  },
  {
   "cell_type": "code",
   "execution_count": null,
   "id": "af08e18c-eecb-40cf-8727-b9e872769912",
   "metadata": {},
   "outputs": [],
   "source": [
    "S = ['s1', 's2', 's3', 's4', 's5']\n",
    "A = ['保持s1', '前往s1', '前往s2', '前往s3', '前往s4', '前往s5', '概率前往']\n",
    "P = {\n",
    "    's1-保持s1-s1':1.0, 's1-前往s2-s2':1.0,\n",
    "    's2-前往s1-s1':1.0, 's2-前往s3-s3':1.0,\n",
    "    's3-前往s4-s4':1.0, 's3-前往s5-s5':1.0,\n",
    "    's4-前往s5-s5':1.0, 's4-概率前往-s2':0.2,\n",
    "    's4-概率前往-s3':0.4, 's4-概率前往-s4':0.4\n",
    "}\n",
    "R = {\n",
    "    's1-保持s1':-1, 's1-前往s2':0,\n",
    "    's2-前往s1':-1, 's2-前往s3':-2,\n",
    "    's3-前往s4':-2, 's3-前往s5':0,\n",
    "    's4-前往s5':10, 's4-概率前往':1\n",
    "}\n",
    "\n",
    "gamma = 0.5\n",
    "MDP = (S, A, P, R, gamma)\n",
    "\n",
    "Pi_1 = {\n",
    "    's1-保持s1':0.5, 's1-前往s2':0.5,\n",
    "    's2-前往s1':0.5, 's2-前往s3':0.5,\n",
    "    's3-前往s4':0.5, 's3-前往s5':0.5,\n",
    "    's4-前往s5':0.5, 's4-概率前往':0.5\n",
    "}\n",
    "Pi_2 = {\n",
    "    's1-保持s1':0.6, 's1-前往s2':0.4,\n",
    "    's2-前往s1':0.3, 's2-前往s3':0.7,\n",
    "    's3-前往s4':0.5, 's3-前往s5':0.5,\n",
    "    's4-前往s5':0.1, 's4-概率前往':0.9\n",
    "}\n",
    "\n",
    "def join(str1, str2):\n",
    "    return str1 + '-' + str2"
   ]
  },
  {
   "cell_type": "code",
   "execution_count": null,
   "id": "48d8c558-c2c1-4027-9a64-c9568fd21cdd",
   "metadata": {},
   "outputs": [],
   "source": [
    "def sample(MDP, Pi, timestep_max, number):\n",
    "    S, A, P, R, gamma = MDP\n",
    "    episodes = []\n",
    "    for _ in range(number):\n",
    "        episode = []\n",
    "        timestep = 0\n",
    "        s = S[np.random.randint(4)]\n",
    "        while s != 's5' and timestep <= timestep_max:\n",
    "            timestep +=1\n",
    "            rand, temp = np.random.rand(), 0\n",
    "            for a_opt in A:\n",
    "                temp += Pi.get(join(s, a_opt), 0)\n",
    "                if temp > rand:\n",
    "                    a = a_opt\n",
    "                    r = R.get(join(s, a), 0)\n",
    "                    break\n",
    "            rand, temp = np.random.rand(), 0\n",
    "            for s_opt in S:\n",
    "                temp += P.get(join(join(s, a), s_opt), 0)\n",
    "                if temp > rand:\n",
    "                    s_next = s_opt\n",
    "                    break\n",
    "            episode.append((s, a, r, s_next))\n",
    "            s = s_next\n",
    "        episodes.append(episode)\n",
    "    return episodes"
   ]
  },
  {
   "cell_type": "code",
   "execution_count": null,
   "id": "d912c526-9d38-423b-81e5-ccda0d5038e1",
   "metadata": {},
   "outputs": [],
   "source": [
    "episodes = sample(MDP, Pi_1, 20, 5)\n",
    "print(episodes)"
   ]
  },
  {
   "cell_type": "code",
   "execution_count": null,
   "id": "d0f51738-f478-4905-ad1c-de80cd73a46a",
   "metadata": {},
   "outputs": [],
   "source": [
    "def MC(episodes, V, N, gamma):\n",
    "    for episode in episodes:\n",
    "        G = 0\n",
    "        for i in range(len(episode)-1, -1, -1):\n",
    "            (s, a, r, s_next) = episode[i]\n",
    "            G = r + gamma * G\n",
    "            N[s] = N[s] + 1\n",
    "            V[s] = V[s] + (G - V[s]) / N[s]\n",
    "            \n",
    "timestep_max = 20\n",
    "episodes = sample(MDP, Pi_1, timestep_max, 1000)\n",
    "gamma = 0.5\n",
    "V = {'s1':0, 's2':0, 's3':0, 's4':0, 's5':0}\n",
    "N = {'s1':0, 's2':0, 's3':0, 's4':0, 's5':0}\n",
    "MC(episodes, V, N, gamma)\n",
    "print(V)"
   ]
  }
 ],
 "metadata": {
  "kernelspec": {
   "display_name": "Python 3 (ipykernel)",
   "language": "python",
   "name": "python3"
  },
  "language_info": {
   "codemirror_mode": {
    "name": "ipython",
    "version": 3
   },
   "file_extension": ".py",
   "mimetype": "text/x-python",
   "name": "python",
   "nbconvert_exporter": "python",
   "pygments_lexer": "ipython3",
   "version": "3.9.7"
  }
 },
 "nbformat": 4,
 "nbformat_minor": 5
}
