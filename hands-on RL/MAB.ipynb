{
 "cells": [
  {
   "cell_type": "code",
   "execution_count": null,
   "id": "ba496eb7-3642-4acd-8ba2-2b94faad7b8a",
   "metadata": {},
   "outputs": [],
   "source": [
    "import numpy as np\n",
    "import matplotlib.pyplot as plt"
   ]
  },
  {
   "cell_type": "code",
   "execution_count": null,
   "id": "d81c1280-7a8b-4716-b535-c20a2e18beed",
   "metadata": {},
   "outputs": [],
   "source": [
    "class BernoulliBandit:\n",
    "    def __init__(self, K):\n",
    "        self.probs = np.random.uniform(size = K)\n",
    "        self.best_idx = np.argmax(self.probs)\n",
    "        self.best_prob = self.probs[self.best_idx]\n",
    "        self.K = K\n",
    "        \n",
    "    def step(self, k):\n",
    "        if np.random.rand() < self.probs[k] :\n",
    "            return 1\n",
    "        else :\n",
    "            return 0"
   ]
  },
  {
   "cell_type": "code",
   "execution_count": null,
   "id": "ac70b766-7322-4174-8f9e-510b6b629172",
   "metadata": {},
   "outputs": [],
   "source": [
    "class Solver:\n",
    "    def __init__(self, bandit):\n",
    "        self.bandit = bandit\n",
    "        self.counts = np.zeros(self.bandit.K)\n",
    "        self.regret = 0.\n",
    "        self.actions = []\n",
    "        self.regrets = []\n",
    "        \n",
    "    def update_regret(self, k):\n",
    "        self.regret += self.bandit.best_prob - self.bandit.probs[k]\n",
    "        self.regrets.append(self.regret)\n",
    "        \n",
    "    def run_one_step(self):\n",
    "        raise NotImplementedError\n",
    "    \n",
    "    def run(self, num_steps):\n",
    "        for _ in range(num_steps):\n",
    "            k = self.run_one_step()\n",
    "            self.counts[k] += 1\n",
    "            self.actions.append(k)\n",
    "            self.update_regret(k)"
   ]
  },
  {
   "cell_type": "code",
   "execution_count": null,
   "id": "e490f5ba-355f-4b00-a9b2-4dc1066f25ae",
   "metadata": {},
   "outputs": [],
   "source": [
    "class EpsilonGreedy(Solver):\n",
    "    def __init__(self, bandit, epsilon=0.01, init_prob= 0.):\n",
    "        super(EpsilonGreedy, self).__init__(bandit)\n",
    "        self.epsilon = epsilon\n",
    "        self.estimates = np.array([init_prob] * self.bandit.K)\n",
    "        \n",
    "    def run_one_step(self):\n",
    "        if np.random.random() < self.epsilon:\n",
    "            k = np.random.randint(0, self.bandit.K)\n",
    "        else :\n",
    "            k = np.argmax(self.estimates)\n",
    "        r = self.bandit.step(k)\n",
    "        self.estimates[k] += 1. /(self.counts[k] + 1) * (r - self.estimates[k])\n",
    "        return k"
   ]
  },
  {
   "cell_type": "code",
   "execution_count": null,
   "id": "33bcab93-1f61-4336-9690-7b3ff7b50a65",
   "metadata": {},
   "outputs": [],
   "source": [
    "def plot_results(solvers, solver_names):\n",
    "    for idx, solver in enumerate(solvers):\n",
    "        time_list = range(len(solver.regrets))\n",
    "        plt.plot(time_list, solver.regrets, label=solver_names[idx])\n",
    "    plt.xlabel('Time steps')\n",
    "    plt.ylabel('Cumulative regrets')\n",
    "    plt.title('%d-armed bandit' % solvers[0].bandit.K)\n",
    "    plt.legend()\n",
    "    plt.show()"
   ]
  },
  {
   "cell_type": "code",
   "execution_count": null,
   "id": "dbbf78e2-4a03-429e-8030-1884e4c51455",
   "metadata": {},
   "outputs": [],
   "source": [
    "class DecayingEpsilonGreedy(Solver):\n",
    "    def __init__(self, bandit, epsilon=0.01, init_prob=0.):\n",
    "        super(DecayingEpsilonGreedy, self).__init__(bandit)\n",
    "        self.epsilon = epsilon\n",
    "        self.estimates = np.array([init_prob] * self.bandit.K)\n",
    "        self.total_count = 0\n",
    "    \n",
    "    def run_one_step(self):\n",
    "        self.total_count += 1\n",
    "        if np.random.random() < self.epsilon*(0.999)**(self.total_count):\n",
    "            k = np.random.randint(0, self.bandit.K)\n",
    "        else :\n",
    "            k = np.argmax(self.estimates)\n",
    "        r = self.bandit.step(k)\n",
    "        self.estimates[k] += 1. /(self.counts[k] + 1) * (r - self.estimates[k])\n",
    "        return k"
   ]
  },
  {
   "cell_type": "code",
   "execution_count": null,
   "id": "4dbab727-4380-4beb-a852-2662f8a13a30",
   "metadata": {},
   "outputs": [],
   "source": [
    "np.random.seed(1)\n",
    "K = 10\n",
    "bandit = BernoulliBandit(K)\n",
    "decaying_epsilon_greedy_solver = DecayingEpsilonGreedy(bandit, 5)\n",
    "decaying_epsilon_greedy_solver.run(10000)\n",
    "print('epsilon-贪婪算法的累计懊悔为：', decaying_epsilon_greedy_solver.regret)\n",
    "plot_results([decaying_epsilon_greedy_solver], ['DecayingEpsilonGreedy'])"
   ]
  },
  {
   "cell_type": "code",
   "execution_count": null,
   "id": "e6178e44-035f-4dcc-a7f9-1c5718330a75",
   "metadata": {},
   "outputs": [],
   "source": [
    "class UCB(Solver):\n",
    "    def __init__(self, bandit, coef, init_prob=0.):\n",
    "        super(UCB, self).__init__(bandit)\n",
    "        self.total_count = 0\n",
    "        self.estimates = np.array([init_prob] * self.bandit.K)\n",
    "        self.coef = coef\n",
    "        \n",
    "    def run_one_step(self):\n",
    "        self.total_count += 1\n",
    "        ucb = self.estimates + self.coef * np.sqrt(np.log(self.total_count) / (2 * (self.counts + 1)))\n",
    "        k = np.argmax(ucb)\n",
    "        r = self.bandit.step(k)\n",
    "        self.estimates[k] += 1. /(self.counts[k] + 1) * (r - self.estimates[k])\n",
    "        return k"
   ]
  },
  {
   "cell_type": "code",
   "execution_count": null,
   "id": "1f861192-81ff-4937-b125-1a8e138ac1f9",
   "metadata": {},
   "outputs": [],
   "source": [
    "np.random.seed(1)\n",
    "coef = 1\n",
    "UCB_solver = UCB(bandit, coef)\n",
    "UCB_solver.run(5000)\n",
    "print('上置信界算法的累计懊悔为：', UCB_solver.regret)\n",
    "plot_results([UCB_solver], ['UCB'])"
   ]
  },
  {
   "cell_type": "code",
   "execution_count": null,
   "id": "d0ff8dbc-4569-41fc-9a7e-db83e86acdd1",
   "metadata": {},
   "outputs": [],
   "source": [
    "class ThompsonSampling(Solver):\n",
    "    def __init__(self, bandit):\n",
    "        super(ThompsonSampling, self).__init__(bandit)\n",
    "        self._a = np.ones(self.bandit.K)\n",
    "        self._b = np.ones(self.bandit.K)\n",
    "        \n",
    "    def run_one_step(self):\n",
    "        samples = np.random.beta(self._a, self._b)\n",
    "        k = np.argmax(samples)\n",
    "        r = self.bandit.step(k)\n",
    "        self._a[k] += r\n",
    "        self._b[k] += (1 - r)\n",
    "        return k"
   ]
  },
  {
   "cell_type": "code",
   "execution_count": null,
   "id": "4e841fad-74e9-4a1c-ad1c-b7d213082fae",
   "metadata": {},
   "outputs": [],
   "source": [
    "np.random.seed(3)\n",
    "K = 10\n",
    "bandit = BernoulliBandit(K)\n",
    "thompson_sampling_solver = ThompsonSampling(bandit)\n",
    "thompson_sampling_solver.run(1000000)\n",
    "print('汤普森采样算法的累计懊悔为：', thompson_sampling_solver.regret)\n",
    "plot_results([thompson_sampling_solver], ['ThompsonSampling'])"
   ]
  }
 ],
 "metadata": {
  "kernelspec": {
   "display_name": "Python 3 (ipykernel)",
   "language": "python",
   "name": "python3"
  },
  "language_info": {
   "codemirror_mode": {
    "name": "ipython",
    "version": 3
   },
   "file_extension": ".py",
   "mimetype": "text/x-python",
   "name": "python",
   "nbconvert_exporter": "python",
   "pygments_lexer": "ipython3",
   "version": "3.9.7"
  }
 },
 "nbformat": 4,
 "nbformat_minor": 5
}
